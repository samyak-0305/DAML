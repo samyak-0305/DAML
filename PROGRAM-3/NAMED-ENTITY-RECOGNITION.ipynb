{
 "cells": [
  {
   "cell_type": "code",
   "execution_count": 1,
   "id": "a4efe6c7",
   "metadata": {},
   "outputs": [
    {
     "name": "stdout",
     "output_type": "stream",
     "text": [
      "['Shah', 'Rukh Khan', 'Romance', 'Padma Shri', 'Indian']\n"
     ]
    }
   ],
   "source": [
    "import nltk\n",
    "from nltk import word_tokenize, pos_tag, ne_chunk, sent_tokenize\n",
    "\n",
    "input = \"Shah Rukh Khan is a legendary Bollywood actor known as the King of Romance. He received the Padma Shri award in 2005 for his contribution to Indian cinema.\"\n",
    "ner = ne_chunk(pos_tag(word_tokenize(input)))\n",
    "#print(ner)\n",
    "\n",
    "from nltk.tree import Tree\n",
    "named_entity = []\n",
    "for subtree in ner:\n",
    "    if isinstance(subtree, Tree):\n",
    "        entity = \" \".join([token for token, pos in subtree.leaves()])\n",
    "        named_entity.append(entity)\n",
    "print(named_entity)"
   ]
  },
  {
   "cell_type": "code",
   "execution_count": null,
   "id": "27886efa",
   "metadata": {},
   "outputs": [
    {
     "name": "stdout",
     "output_type": "stream",
     "text": [
      "['Shah Rukh Khan', 'Bollywood', 'the King of Romance', '2005', 'Indian']\n"
     ]
    }
   ],
   "source": [
    "import spacy\n",
    "nlp = spacy.load(\"en_core_web_md\")\n",
    "\n",
    "\n",
    "text = \"Shah Rukh Khan is a legendary Bollywood actor known as the King of Romance. He received the Padma Shri award in 2005 for his contribution to Indian cinema.\"\n",
    "doc = nlp(text)\n",
    "named_entity = []\n",
    "for ent in doc.ents:\n",
    "    named_entity.append(ent.text)\n",
    "print(named_entity)"
   ]
  }
 ],
 "metadata": {
  "kernelspec": {
   "display_name": "Python 3",
   "language": "python",
   "name": "python3"
  },
  "language_info": {
   "codemirror_mode": {
    "name": "ipython",
    "version": 3
   },
   "file_extension": ".py",
   "mimetype": "text/x-python",
   "name": "python",
   "nbconvert_exporter": "python",
   "pygments_lexer": "ipython3",
   "version": "3.12.10"
  }
 },
 "nbformat": 4,
 "nbformat_minor": 5
}
