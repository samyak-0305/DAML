{
 "cells": [
  {
   "cell_type": "code",
   "execution_count": 4,
   "id": "e72333fe",
   "metadata": {},
   "outputs": [
    {
     "name": "stdout",
     "output_type": "stream",
     "text": [
      "Shah Rukh Khan is a legendary Bollywood actor known as the King of Romance. He received the Padma Shri award in 2005 for his contribution to Indian cinema.\n",
      "LOWER CASE:  shah rukh khan is a legendary bollywood actor known as the king of romance. he received the padma shri award in 2005 for his contribution to indian cinema.\n",
      "REGULAR EXP1 =  shah rukh khan is a versatile bollywood actor known as the king of romance. he received the padma shri award in 2005 for his contribution to indian cinema.\n",
      "REGULAR EXP2 =  s*** ru** ***n *s * ****n**ry *o**ywoo* **tor *nown *s t** **n* o* ro**n**. ** r****v** t** p**** s*r* *w*r* *n 2005 *or **s *ontr**ut*on to *n***n **n***.\n",
      "REGULAR EXP3 =  shah rukh khan is a legendary bollywood actor known as the king of romance. he received the padma shri award in #### for his contribution to indian cinema.\n",
      "WORD TOKENS:  ['Shah', 'Rukh', 'Khan', 'is', 'a', 'legendary', 'Bollywood', 'actor', 'known', 'as', 'the', 'King', 'of', 'Romance', '.', 'He', 'received', 'the', 'Padma', 'Shri', 'award', 'in', '2005', 'for', 'his', 'contribution', 'to', 'Indian', 'cinema', '.']\n",
      "30\n",
      "SENTENCE TOKENS:  ['Shah Rukh Khan is a legendary Bollywood actor known as the King of Romance.', 'He received the Padma Shri award in 2005 for his contribution to Indian cinema.']\n",
      "2\n",
      "Shah Rukh Khan legendary Bollywood actor known King Romance . He received Padma Shri award 2005 contribution Indian cinema .\n"
     ]
    }
   ],
   "source": [
    "input = \"Shah Rukh Khan is a legendary Bollywood actor known as the King of Romance. He received the Padma Shri award in 2005 for his contribution to Indian cinema.\"\n",
    "print(input)\n",
    "\n",
    "#(1)Lowercase\n",
    "lowercase = input.lower()\n",
    "print(\"LOWER CASE: \", lowercase)\n",
    "\n",
    "#re\n",
    "import re\n",
    "lowercase_re = re.sub('legendary', 'versatile', lowercase)\n",
    "print(\"REGULAR EXP1 = \", lowercase_re)\n",
    "lowercase_re = re.sub('[a-m]', '*', lowercase)\n",
    "print(\"REGULAR EXP2 = \", lowercase_re)\n",
    "lowercase_re = re.sub('\\\\d', '#', lowercase)\n",
    "print(\"REGULAR EXP3 = \", lowercase_re)\n",
    "\n",
    "#(2)Tokenization\n",
    "import nltk\n",
    "from nltk import word_tokenize, sent_tokenize\n",
    "\n",
    "word_tokens = word_tokenize(input)\n",
    "print(\"WORD TOKENS: \", word_tokens)\n",
    "print(len(word_tokens))\n",
    "sent_tokens = sent_tokenize(input)\n",
    "print(\"SENTENCE TOKENS: \", sent_tokens)\n",
    "print(len(sent_tokens))\n",
    "\n",
    "#(3)Stop Words Removal\n",
    "from nltk.corpus import stopwords\n",
    "#print(stopwords.fileids())\n",
    "stopwords = set(stopwords.words('english'))\n",
    "#print(\"\\n\", stopwords)\n",
    "\n",
    "tokens_stopwords = []\n",
    "for token in word_tokens:\n",
    "    if token not in stopwords:\n",
    "        tokens_stopwords.append(token)\n",
    "print(' '.join(tokens_stopwords))"
   ]
  },
  {
   "cell_type": "code",
   "execution_count": 5,
   "id": "69677cec",
   "metadata": {},
   "outputs": [
    {
     "name": "stdout",
     "output_type": "stream",
     "text": [
      "['shah', 'rukh', 'khan', 'legendari', 'bollywood', 'actor', 'known', 'king', 'romanc', '.', 'he', 'receiv', 'padma', 'shri', 'award', '2005', 'contribut', 'indian', 'cinema', '.']\n"
     ]
    }
   ],
   "source": [
    "#(4)Stemmer\n",
    "stemming = []\n",
    "from nltk import PorterStemmer\n",
    "for word in tokens_stopwords:\n",
    "    stemming.append(PorterStemmer().stem(word))\n",
    "print(stemming)"
   ]
  },
  {
   "cell_type": "code",
   "execution_count": 6,
   "id": "c7a04458",
   "metadata": {},
   "outputs": [
    {
     "name": "stdout",
     "output_type": "stream",
     "text": [
      "['Shah', 'Rukh', 'Khan', 'legendary', 'Bollywood', 'actor', 'known', 'King', 'Romance', '.', 'He', 'received', 'Padma', 'Shri', 'award', '2005', 'contribution', 'Indian', 'cinema', '.']\n"
     ]
    }
   ],
   "source": [
    "#(5)Lemmatization\n",
    "from nltk import WordNetLemmatizer\n",
    "lma = []\n",
    "for word in tokens_stopwords:\n",
    "    lma.append(WordNetLemmatizer().lemmatize(word))\n",
    "print(lma)"
   ]
  },
  {
   "cell_type": "code",
   "execution_count": 7,
   "id": "6c6cbbb4",
   "metadata": {},
   "outputs": [
    {
     "name": "stdout",
     "output_type": "stream",
     "text": [
      "[('Shah', 'NNP'), ('Rukh', 'NNP'), ('Khan', 'NNP'), ('is', 'VBZ'), ('a', 'DT'), ('legendary', 'JJ'), ('Bollywood', 'NNP'), ('actor', 'NN'), ('known', 'VBN'), ('as', 'IN'), ('the', 'DT'), ('King', 'NNP'), ('of', 'IN'), ('Romance', 'NNP'), ('.', '.'), ('He', 'PRP'), ('received', 'VBD'), ('the', 'DT'), ('Padma', 'NNP'), ('Shri', 'NNP'), ('award', 'NN'), ('in', 'IN'), ('2005', 'CD'), ('for', 'IN'), ('his', 'PRP$'), ('contribution', 'NN'), ('to', 'TO'), ('Indian', 'JJ'), ('cinema', 'NN'), ('.', '.')]\n"
     ]
    }
   ],
   "source": [
    "#(6)POS Tagging\n",
    "from nltk import pos_tag\n",
    "print(pos_tag(word_tokens))"
   ]
  }
 ],
 "metadata": {
  "kernelspec": {
   "display_name": "Python 3",
   "language": "python",
   "name": "python3"
  },
  "language_info": {
   "codemirror_mode": {
    "name": "ipython",
    "version": 3
   },
   "file_extension": ".py",
   "mimetype": "text/x-python",
   "name": "python",
   "nbconvert_exporter": "python",
   "pygments_lexer": "ipython3",
   "version": "3.12.10"
  }
 },
 "nbformat": 4,
 "nbformat_minor": 5
}
