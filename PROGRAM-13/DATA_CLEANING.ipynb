{
 "cells": [
  {
   "cell_type": "code",
   "execution_count": null,
   "id": "5339e46d",
   "metadata": {},
   "outputs": [
    {
     "name": "stdout",
     "output_type": "stream",
     "text": [
      "<class 'pandas.core.frame.DataFrame'>\n",
      "RangeIndex: 836 entries, 0 to 835\n",
      "Data columns (total 16 columns):\n",
      " #   Column            Non-Null Count  Dtype  \n",
      "---  ------            --------------  -----  \n",
      " 0   brand             836 non-null    object \n",
      " 1   model             836 non-null    object \n",
      " 2   colour            831 non-null    object \n",
      " 3   original_price    836 non-null    int64  \n",
      " 4   discounted_price  836 non-null    int64  \n",
      " 5   ratings           836 non-null    float64\n",
      " 6   no of persons     836 non-null    int64  \n",
      " 7   reviews           836 non-null    int64  \n",
      " 8   memory            762 non-null    float64\n",
      " 9   storage           820 non-null    float64\n",
      " 10  processor         698 non-null    object \n",
      " 11  rear_camera       836 non-null    object \n",
      " 12  front_camera      707 non-null    object \n",
      " 13  display_size      836 non-null    float64\n",
      " 14  battery_capacity  778 non-null    float64\n",
      " 15  battery_type      477 non-null    object \n",
      "dtypes: float64(5), int64(4), object(7)\n",
      "memory usage: 104.6+ KB\n",
      "brand                0\n",
      "model                0\n",
      "colour               0\n",
      "original_price       0\n",
      "discounted_price     0\n",
      "ratings              0\n",
      "no of persons        0\n",
      "reviews              0\n",
      "memory              74\n",
      "storage             16\n",
      "processor            0\n",
      "display_size         0\n",
      "battery_capacity     0\n",
      "battery_type         0\n",
      "dtype: int64\n"
     ]
    },
    {
     "name": "stderr",
     "output_type": "stream",
     "text": [
      "C:\\Users\\jayad\\AppData\\Local\\Temp\\ipykernel_16584\\1248351611.py:16: FutureWarning: A value is trying to be set on a copy of a DataFrame or Series through chained assignment using an inplace method.\n",
      "The behavior will change in pandas 3.0. This inplace method will never work because the intermediate object on which we are setting values always behaves as a copy.\n",
      "\n",
      "For example, when doing 'df[col].method(value, inplace=True)', try using 'df.method({col: value}, inplace=True)' or df[col] = df[col].method(value) instead, to perform the operation inplace on the original object.\n",
      "\n",
      "\n",
      "  df[col].fillna(df[col].mode()[0], inplace=True)\n"
     ]
    }
   ],
   "source": [
    "import pandas as pd\n",
    "import numpy as np\n",
    "import matplotlib.pyplot as plt\n",
    "import seaborn as sns\n",
    "\n",
    "df = pd.read_csv(r\"SMARTPHONES DATA.csv\")\n",
    "\n",
    "df.head(10)\n",
    "df.info()\n",
    "\n",
    "df.drop(columns=['rear_camera', 'front_camera'], inplace=True)\n",
    "df['battery_capacity'] = df['battery_capacity'].fillna(df['battery_capacity'].median())\n",
    "\n",
    "categorical_cols = df.select_dtypes(include='object').columns\n",
    "for col in categorical_cols:\n",
    "    df[col] = df[col].fillna(df[col].mode()[0])\n",
    "\n",
    "print(df.isnull().sum())\n",
    "\n"
   ]
  },
  {
   "cell_type": "code",
   "execution_count": null,
   "id": "9780ee85",
   "metadata": {},
   "outputs": [],
   "source": []
  }
 ],
 "metadata": {
  "kernelspec": {
   "display_name": "Python 3",
   "language": "python",
   "name": "python3"
  },
  "language_info": {
   "codemirror_mode": {
    "name": "ipython",
    "version": 3
   },
   "file_extension": ".py",
   "mimetype": "text/x-python",
   "name": "python",
   "nbconvert_exporter": "python",
   "pygments_lexer": "ipython3",
   "version": "3.12.10"
  }
 },
 "nbformat": 4,
 "nbformat_minor": 5
}
